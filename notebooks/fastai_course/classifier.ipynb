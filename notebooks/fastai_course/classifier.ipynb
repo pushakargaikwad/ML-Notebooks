{
 "cells": [
  {
   "cell_type": "markdown",
   "metadata": {},
   "source": [
    "# Image Classifier\n",
    "\n",
    "Simple Sweet and Short Image Classifier\n",
    "\n",
    "This code is based on code from [fastai course](https://github.com/fastai/course22)\n",
    "\n",
    "\n",
    "\n",
    "## Disclaimer\n",
    "\n",
    "Uses DDGS for search. This library is not affiliated with DuckDuckGo and is for educational purposes only. It is not intended for commercial use or any purpose that violates DuckDuckGo's Terms of Service. [more here](https://pypi.org/project/duckduckgo-search/#disclaimer)"
   ]
  },
  {
   "cell_type": "markdown",
   "metadata": {},
   "source": [
    "## Pre-requisite"
   ]
  },
  {
   "cell_type": "code",
   "execution_count": null,
   "metadata": {},
   "outputs": [],
   "source": [
    "#skip if duckduckgo_search already installed\n",
    "!pip install -Uqq duckduckgo_search"
   ]
  },
  {
   "cell_type": "markdown",
   "metadata": {},
   "source": [
    "### Proxy\n",
    "\n",
    "If you are getting rate limited in DDGS, as per docs you can use proxy. Below implementation uses tor.\n",
    "More info here https://pypi.org/project/duckduckgo-search/#proxy"
   ]
  },
  {
   "cell_type": "markdown",
   "metadata": {},
   "source": [
    "## Code"
   ]
  },
  {
   "cell_type": "markdown",
   "metadata": {},
   "source": [
    "### Utilities"
   ]
  },
  {
   "cell_type": "code",
   "execution_count": null,
   "metadata": {},
   "outputs": [],
   "source": [
    "## Search images using API (here duckduckgo)\n",
    "\n",
    "from time import sleep\n",
    "from fastcore.all import *\n",
    "from duckduckgo_search import DDGS\n",
    "\n",
    "def search_images(term, max_images=200, retries=3, delay=2):\n",
    "    for i in range(retries):\n",
    "        try:\n",
    "            with DDGS(proxy=\"socks5://127.0.0.1:9050\") as ddgs:\n",
    "\n",
    "                return L(ddgs.images(keywords=term, max_results=max_images)).itemgot('image')\n",
    "        except Exception as e:\n",
    "            if i == retries - 1: raise e\n",
    "            print(f\"Rate limited, retrying in {delay} seconds...\")\n",
    "            sleep(delay)\n",
    "            delay *= 2  # Exponential backoff"
   ]
  },
  {
   "cell_type": "markdown",
   "metadata": {},
   "source": [
    "### Code for Bird Classifier from the Course"
   ]
  },
  {
   "cell_type": "code",
   "execution_count": null,
   "metadata": {},
   "outputs": [],
   "source": [
    "urls = search_images(\"bird photos\", max_images=1)\n",
    "urls[0]"
   ]
  },
  {
   "cell_type": "code",
   "execution_count": null,
   "metadata": {},
   "outputs": [],
   "source": [
    "from fastdownload import download_url\n",
    "dest = 'bird.jpg'\n",
    "download_url(urls[0],dest,show_progress=False)\n",
    "\n",
    "from fastai.vision.all import *\n",
    "im = Image.open(dest)\n",
    "im.to_thumb(256,256)"
   ]
  },
  {
   "cell_type": "code",
   "execution_count": null,
   "metadata": {},
   "outputs": [],
   "source": [
    "download_url(search_images('forest photos', max_images=1)[0],'forest.jpg',show_progress=False)\n",
    "Image.open('forest.jpg').to_thumb(256,256)"
   ]
  },
  {
   "cell_type": "code",
   "execution_count": null,
   "metadata": {},
   "outputs": [],
   "source": [
    "searches = 'forest', 'bird'\n",
    "path = Path('bird_or_not')\n",
    "from time import sleep\n",
    "\n",
    "for o in searches:\n",
    "    dest = (path/o)\n",
    "    dest.mkdir(exist_ok=True, parents=True)\n",
    "    download_images(dest,urls=search_images(f'{o} photo'))\n",
    "    sleep(10)\n",
    "    download_images(dest,urls=search_images(f'{o} sun photo'))\n",
    "    sleep(10)\n",
    "    download_images(dest,urls=search_images(f'{o} shade photo'))\n",
    "    sleep(10)\n",
    "    resize_images(path/o, max_size=400, dest=path/o)"
   ]
  },
  {
   "cell_type": "code",
   "execution_count": null,
   "metadata": {},
   "outputs": [],
   "source": [
    "# verify images\n",
    "\n",
    "failed = verify_images(get_image_files(path))\n",
    "failed.map(Path.unlink)\n",
    "len(failed)"
   ]
  },
  {
   "cell_type": "markdown",
   "metadata": {},
   "source": [
    "for above code\n",
    "\n",
    "`get_image_files(path):`\n",
    "\n",
    "Source: FastAI Library.\n",
    "Purpose: This function is part of the FastAI library. It's used to get a list of all image files in a directory (recursively including subdirectories). It helps in gathering image data for machine learning tasks.\n",
    "\n",
    "\n",
    "`verify_images(...):`\n",
    "\n",
    "Source: FastAI Library.\n",
    "Purpose: Also part of the FastAI library, this function checks if images in the provided list (from get_image_files) can be opened. It's useful for filtering out corrupt or unreadable image files before processing or training a model.\n",
    "\n",
    "`Path.unlink:`\n",
    "\n",
    "Source: Standard Python Library (pathlib module).\n",
    "Purpose: Path is a class from Python’s pathlib module, and unlink is a method of the Path class. It is used to remove (or delete) a file at the given path. It’s similar to the os.remove function in the os module but is a part of the object-oriented approach provided by pathlib.\n",
    "\n",
    "`map(...):`\n",
    "\n",
    "Source: Standard Python functionality.\n",
    "Purpose: map is a built-in Python function that applies a given function to each item of an iterable (like a list) and returns a map object (which is an iterator). In your code, map is used to apply the Path.unlink method to each path in the failed list."
   ]
  },
  {
   "cell_type": "code",
   "execution_count": null,
   "metadata": {},
   "outputs": [],
   "source": [
    "dls = DataBlock(\n",
    "    blocks=(ImageBlock,CategoryBlock),\n",
    "    get_items=get_image_files,\n",
    "    splitter=RandomSplitter(valid_pct=0.2, seed=42),\n",
    "    get_y=parent_label,\n",
    "    item_tfms=[Resize(192,method='squish')]\n",
    ").dataloaders(path)\n",
    "\n",
    "dls.show_batch(max_n=6)"
   ]
  },
  {
   "cell_type": "code",
   "execution_count": null,
   "metadata": {},
   "outputs": [],
   "source": [
    "learn = vision_learner(dls, resnet18, metrics=error_rate)\n",
    "learn.fine_tune(3)"
   ]
  },
  {
   "cell_type": "code",
   "execution_count": null,
   "metadata": {},
   "outputs": [],
   "source": [
    "predicted_category,_,probs= learn.predict(PILImage.create('bird.jpg'))\n",
    "print(f\"This is a: {predicted_category}\")\n",
    "print(f\"Probability it's a bird: {probs[0]:.4f}\")"
   ]
  },
  {
   "cell_type": "code",
   "execution_count": null,
   "metadata": {},
   "outputs": [],
   "source": [
    "# export model\n",
    "learn.export('birdclassifier.pkl')"
   ]
  },
  {
   "cell_type": "code",
   "execution_count": null,
   "metadata": {},
   "outputs": [],
   "source": [
    "# import model\n",
    "learn = load_learner('birdclassifier.pkl')"
   ]
  },
  {
   "cell_type": "code",
   "execution_count": null,
   "metadata": {},
   "outputs": [],
   "source": [
    "category_prediction,_,probs= learn.predict(PILImage.create('forest.jpg'))\n",
    "\n",
    "print(f\"This is a: {category_prediction}\")\n",
    "\n",
    "labels= learn.dls.vocab\n",
    "print(f\"{labels}\")\n",
    "\n",
    "for i, label in enumerate(labels):\n",
    "    print(f\"Probability it's a {label}: {probs[i]:.4f}\")"
   ]
  },
  {
   "cell_type": "markdown",
   "metadata": {},
   "source": [
    "### Code for Jedi / sith Classifier"
   ]
  },
  {
   "cell_type": "code",
   "execution_count": null,
   "metadata": {},
   "outputs": [],
   "source": [
    "searches = 'jedi', 'sith'\n",
    "path = Path('jedi_or_sith')\n",
    "from time import sleep\n",
    "\n",
    "for o in searches:\n",
    "    dest = (path/o)\n",
    "    dest.mkdir(exist_ok=True, parents=True)\n",
    "    download_images(dest,urls=search_images(f'{o} photo'))\n",
    "    resize_images(path/o, max_size=400, dest=path/o)"
   ]
  },
  {
   "cell_type": "code",
   "execution_count": null,
   "metadata": {},
   "outputs": [],
   "source": [
    "# verify images\n",
    "\n",
    "failed = verify_images(get_image_files(path))\n",
    "failed.map(Path.unlink)\n",
    "len(failed)"
   ]
  },
  {
   "cell_type": "code",
   "execution_count": null,
   "metadata": {},
   "outputs": [],
   "source": [
    "dls = DataBlock(\n",
    "    blocks=(ImageBlock,CategoryBlock),\n",
    "    get_items=get_image_files,\n",
    "    splitter=RandomSplitter(valid_pct=0.2, seed=42),\n",
    "    get_y=parent_label,\n",
    "    item_tfms=[Resize(192,method='squish')]\n",
    ").dataloaders(path)\n",
    "\n",
    "dls.show_batch(max_n=6)"
   ]
  },
  {
   "cell_type": "code",
   "execution_count": null,
   "metadata": {},
   "outputs": [],
   "source": [
    "learn = vision_learner(dls, resnet18, metrics=error_rate)\n",
    "learn.fine_tune(3)"
   ]
  },
  {
   "cell_type": "code",
   "execution_count": null,
   "metadata": {},
   "outputs": [],
   "source": [
    "import ipywidgets as widgets\n",
    "from IPython.display import display, clear_output\n",
    "\n",
    "from PIL import Image\n",
    "import io\n",
    "\n",
    "\n",
    "\n",
    "# Create a file upload widget\n",
    "upload_button = widgets.FileUpload(\n",
    "    description='Upload Image',\n",
    "    accept='.jpg, .jpeg, .png',  # Accepted file types\n",
    "    multiple=False  # Allow only one file\n",
    ")\n",
    "\n",
    "# Create an output widget to display the result\n",
    "output = widgets.Output()\n",
    "\n",
    "def on_upload_change(change):\n",
    "    \"\"\"Callback function when an image is uploaded.\"\"\"\n",
    "    with output:\n",
    "        clear_output()  # Clear previous output\n",
    "        if upload_button.value:  # Check if a file is uploaded\n",
    "            # Get the uploaded file\n",
    "            uploaded_file = list(upload_button.value.values())[0]\n",
    "            # Read the image data\n",
    "            image_data = uploaded_file['content']\n",
    "            # Convert to PIL image\n",
    "            img = PILImage.create(io.BytesIO(image_data))\n",
    "            # Display the image\n",
    "            display(img.to_thumb(224, 224))  # Resize for display\n",
    "            # Make prediction\n",
    "            predicted_category, _, probs = learn.predict(img)\n",
    "            # Show the result\n",
    "            print(f\"This is a: {predicted_category}\")\n",
    "\n",
    "# Attach the callback to the upload widget\n",
    "upload_button.observe(on_upload_change, names='value')\n",
    "\n",
    "# Display the upload button and output widget\n",
    "display(upload_button)\n",
    "display(output)"
   ]
  },
  {
   "cell_type": "code",
   "execution_count": null,
   "metadata": {},
   "outputs": [],
   "source": [
    "# export model\n",
    "learn.export('jedi_or_sith_classifier.pkl')"
   ]
  }
 ],
 "metadata": {
  "kernelspec": {
   "display_name": "fastbook",
   "language": "python",
   "name": "python3"
  },
  "language_info": {
   "codemirror_mode": {
    "name": "ipython",
    "version": 3
   },
   "file_extension": ".py",
   "mimetype": "text/x-python",
   "name": "python",
   "nbconvert_exporter": "python",
   "pygments_lexer": "ipython3",
   "version": "3.11.5"
  }
 },
 "nbformat": 4,
 "nbformat_minor": 2
}
